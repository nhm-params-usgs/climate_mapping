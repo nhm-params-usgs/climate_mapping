{
 "cells": [
  {
   "cell_type": "markdown",
   "metadata": {},
   "source": [
    "---\n",
    "# QC notebook for Gridmet mapping to onhm HRUs (GF_v11)\n",
    "\n",
    "* Gridmet only provides a partial mapping to the full GF_v11.  In this notebook the HRUs with 1) no-mapping 2) partial-mapping, and 3) full-mapping will be identified.  For those HRUs that are fully mapped by the Gridmet data a confimation that the weights sum to 1 will be provided.  A file will be generated that indicates the hru_ids (In this case nhru_v11) for 1) partial-mapped hrus and 2) no-mapped hrus.   Finally a plot of the raw data and mapped data for tmax will be provided as a qualitative confirmation of the mapping."
   ]
  },
  {
   "cell_type": "code",
   "execution_count": 1,
   "metadata": {},
   "outputs": [],
   "source": [
    "import onhm\n",
    "import xarray as xr\n",
    "import pandas as pd\n",
    "import geopandas as gpd\n",
    "import matplotlib.pyplot as plt\n",
    "import numpy as np\n",
    "import datetime as dt"
   ]
  },
  {
   "cell_type": "markdown",
   "metadata": {},
   "source": [
    "---\n",
    "\n",
    "Load paths and files on denali\n",
    "\n",
    "\n",
    "---"
   ]
  },
  {
   "cell_type": "code",
   "execution_count": 2,
   "metadata": {},
   "outputs": [
    {
     "name": "stdout",
     "output_type": "stream",
     "text": [
      "the path /caldera/projects/usgs/water/wbeep/onhm_dev/climate/gm_gf_v11 exits:  True\n",
      "the path /caldera/projects/usgs/water/wbeep/onhm_dev/climate/gridmet_raw exits:  True\n",
      "the path /caldera/projects/usgs/water/wbeep/onhm_dev/climate/gridmet_raw exits:  True\n",
      "the file /caldera/projects/usgs/water/wbeep/onhm_dev/climate/git/onhm-fetcher-parser/tmp_Gridmet_weights_hru_v1_1e.csv exits:  True\n"
     ]
    }
   ],
   "source": [
    "from pathlib import Path\n",
    "\n",
    "p_gm = Path('/caldera/projects/usgs/water/wbeep/onhm_dev/climate/gm_gf_v11')\n",
    "p_gmr = Path('/caldera/projects/usgs/water/wbeep/onhm_dev/climate/gridmet_raw')\n",
    "#I put the gf_v11 shapefile, only hru polys, in the following folder for processing so we'll use it for plotting\n",
    "shpf_p = Path('/caldera/projects/usgs/water/wbeep/onhm_dev/climate/gridmet_raw')\n",
    "# weights file used to map gridded gridmet to hrus is here\n",
    "gm_wght_f = Path('/caldera/projects/usgs/water/wbeep/onhm_dev/climate/git/onhm-fetcher-parser/') / 'tmp_Gridmet_weights_hru_v1_1e.csv'\n",
    "print(f'the path {p_gm} exits: ', p_gm.exists())\n",
    "print(f'the path {p_gmr} exits: ', p_gmr.exists())\n",
    "print(f'the path {shpf_p} exits: ', shpf_p.exists())\n",
    "print(f'the file {gm_wght_f} exits: ', gm_wght_f.exists())"
   ]
  },
  {
   "cell_type": "markdown",
   "metadata": {},
   "source": [
    "---\n",
    "\n",
    "Read the GF_v11 shapefile (in geographic projection) into geopandas dataframe\n",
    "\n",
    "---"
   ]
  },
  {
   "cell_type": "code",
   "execution_count": 3,
   "metadata": {},
   "outputs": [
    {
     "name": "stdout",
     "output_type": "stream",
     "text": [
      "               LAYER            GM_TYPE  OBJECTID  nhru_v11  hru_segme1  \\\n",
      "0       NHM\\nhru_v11  Unknown Area Type         1     76127       40038   \n",
      "1       NHM\\nhru_v11  Unknown Area Type         2     76147       40038   \n",
      "2       NHM\\nhru_v11  Unknown Area Type         3     76170       40021   \n",
      "3       NHM\\nhru_v11  Unknown Area Type         3     76170       40021   \n",
      "4       NHM\\nhru_v11  Unknown Area Type         3     76170       40021   \n",
      "...              ...                ...       ...       ...         ...   \n",
      "139802  NHM\\nhru_v11  Unknown Area Type    114954     57964       31028   \n",
      "139803  NHM\\nhru_v11  Unknown Area Type    114955     64080       28886   \n",
      "139804  NHM\\nhru_v11  Unknown Area Type    114956     64150       28866   \n",
      "139805  NHM\\nhru_v11  Unknown Area Type    114957     65633       31412   \n",
      "139806  NHM\\nhru_v11  Unknown Area Type    114958     18843       10081   \n",
      "\n",
      "        Shape_Leng Shape_Area  nhm_id  hru_id_nat  Version  \\\n",
      "0        92601.509  188151328   76128       76128      1.0   \n",
      "1        60460.683   44161889   76148       76148      1.0   \n",
      "2        62333.253   73375754   76171       76171      1.0   \n",
      "3        62333.253   73375754   76171       76171      1.0   \n",
      "4        62333.253   73375754   76171       76171      1.0   \n",
      "...            ...        ...     ...         ...      ...   \n",
      "139802  144351.030  255074262   57965       57965      1.0   \n",
      "139803   79361.920  110270903   64081       64081      1.0   \n",
      "139804   95810.807  188440874   64151       64151      1.0   \n",
      "139805   83210.536   73870743   65634       65634      1.0   \n",
      "139806  198719.270  222347333   18844       18844      1.0   \n",
      "\n",
      "                                                 geometry  \n",
      "0       POLYGON ((-97.09917 30.30709, -97.09915 30.307...  \n",
      "1       POLYGON ((-97.01237 30.32846, -97.01237 30.328...  \n",
      "2       POLYGON ((-97.11149 30.41259, -97.11017 30.411...  \n",
      "3       POLYGON ((-97.06284 30.46034, -97.06283 30.460...  \n",
      "4       POLYGON ((-97.06284 30.46034, -97.06284 30.460...  \n",
      "...                                                   ...  \n",
      "139802  POLYGON ((-100.03880 47.50375, -100.03878 47.5...  \n",
      "139803  POLYGON ((-112.61444 45.90174, -112.61441 45.9...  \n",
      "139804  POLYGON ((-113.40203 45.74099, -113.40165 45.7...  \n",
      "139805  POLYGON ((-109.60271 48.16593, -109.60271 48.1...  \n",
      "139806  POLYGON ((-90.16716 48.13775, -90.16718 48.137...  \n",
      "\n",
      "[139807 rows x 11 columns]\n"
     ]
    }
   ],
   "source": [
    "shapefiles = shpf_p.glob(\"*2e*.shp\")\n",
    "gdf = pd.concat([\n",
    "    gpd.read_file(shp)\n",
    "    for shp in shapefiles\n",
    "]).pipe(gpd.GeoDataFrame)\n",
    "gdf.reset_index(drop=True, inplace=True)\n",
    "# gdf.plot()\n",
    "print(gdf)"
   ]
  },
  {
   "cell_type": "markdown",
   "metadata": {},
   "source": [
    "---\n",
    "\n",
    "The next cells look at the weights file used to map gridded gridmet data to the HRU polygons.  Gridmet is available for conus only.  There are HRUs in GF_v11_2e that are either entirely outside the Gridmet footprint or are partially in the Gridmet footprint.  \n",
    "\n",
    "---"
   ]
  },
  {
   "cell_type": "code",
   "execution_count": 4,
   "metadata": {},
   "outputs": [
    {
     "name": "stdout",
     "output_type": "stream",
     "text": [
      "wght_id: nhru_v11\n"
     ]
    },
    {
     "data": {
      "text/html": [
       "<div>\n",
       "<style scoped>\n",
       "    .dataframe tbody tr th:only-of-type {\n",
       "        vertical-align: middle;\n",
       "    }\n",
       "\n",
       "    .dataframe tbody tr th {\n",
       "        vertical-align: top;\n",
       "    }\n",
       "\n",
       "    .dataframe thead th {\n",
       "        text-align: right;\n",
       "    }\n",
       "</style>\n",
       "<table border=\"1\" class=\"dataframe\">\n",
       "  <thead>\n",
       "    <tr style=\"text-align: right;\">\n",
       "      <th></th>\n",
       "      <th>grid_ids</th>\n",
       "      <th>nhru_v11</th>\n",
       "      <th>w</th>\n",
       "    </tr>\n",
       "  </thead>\n",
       "  <tbody>\n",
       "    <tr>\n",
       "      <th>0</th>\n",
       "      <td>638227</td>\n",
       "      <td>76127</td>\n",
       "      <td>0.030892</td>\n",
       "    </tr>\n",
       "    <tr>\n",
       "      <th>1</th>\n",
       "      <td>638228</td>\n",
       "      <td>76127</td>\n",
       "      <td>0.011476</td>\n",
       "    </tr>\n",
       "    <tr>\n",
       "      <th>2</th>\n",
       "      <td>638226</td>\n",
       "      <td>76127</td>\n",
       "      <td>0.094655</td>\n",
       "    </tr>\n",
       "    <tr>\n",
       "      <th>3</th>\n",
       "      <td>638225</td>\n",
       "      <td>76127</td>\n",
       "      <td>0.095469</td>\n",
       "    </tr>\n",
       "    <tr>\n",
       "      <th>4</th>\n",
       "      <td>636842</td>\n",
       "      <td>76127</td>\n",
       "      <td>0.017072</td>\n",
       "    </tr>\n",
       "  </tbody>\n",
       "</table>\n",
       "</div>"
      ],
      "text/plain": [
       "   grid_ids  nhru_v11         w\n",
       "0    638227     76127  0.030892\n",
       "1    638228     76127  0.011476\n",
       "2    638226     76127  0.094655\n",
       "3    638225     76127  0.095469\n",
       "4    636842     76127  0.017072"
      ]
     },
     "execution_count": 4,
     "metadata": {},
     "output_type": "execute_result"
    }
   ],
   "source": [
    "pd_wght_f = pd.read_csv(gm_wght_f)\n",
    "wghts_id = pd_wght_f.columns[1]\n",
    "print(f'wght_id: {wghts_id}')\n",
    "pd_wght_f.head()"
   ]
  },
  {
   "cell_type": "markdown",
   "metadata": {},
   "source": [
    "---\n",
    "\n",
    "Group the weights file by nhru_v11 (the hru id) and sum the weights\n",
    "\n",
    "---"
   ]
  },
  {
   "cell_type": "code",
   "execution_count": 5,
   "metadata": {},
   "outputs": [
    {
     "data": {
      "text/html": [
       "<div>\n",
       "<style scoped>\n",
       "    .dataframe tbody tr th:only-of-type {\n",
       "        vertical-align: middle;\n",
       "    }\n",
       "\n",
       "    .dataframe tbody tr th {\n",
       "        vertical-align: top;\n",
       "    }\n",
       "\n",
       "    .dataframe thead th {\n",
       "        text-align: right;\n",
       "    }\n",
       "</style>\n",
       "<table border=\"1\" class=\"dataframe\">\n",
       "  <thead>\n",
       "    <tr style=\"text-align: right;\">\n",
       "      <th></th>\n",
       "      <th>grid_ids</th>\n",
       "      <th>w</th>\n",
       "    </tr>\n",
       "    <tr>\n",
       "      <th>nhru_v11</th>\n",
       "      <th></th>\n",
       "      <th></th>\n",
       "    </tr>\n",
       "  </thead>\n",
       "  <tbody>\n",
       "    <tr>\n",
       "      <th>1</th>\n",
       "      <td>1385235</td>\n",
       "      <td>1.000000</td>\n",
       "    </tr>\n",
       "    <tr>\n",
       "      <th>2</th>\n",
       "      <td>1105414</td>\n",
       "      <td>1.000000</td>\n",
       "    </tr>\n",
       "    <tr>\n",
       "      <th>3</th>\n",
       "      <td>275660</td>\n",
       "      <td>1.000000</td>\n",
       "    </tr>\n",
       "    <tr>\n",
       "      <th>4</th>\n",
       "      <td>551321</td>\n",
       "      <td>0.999999</td>\n",
       "    </tr>\n",
       "    <tr>\n",
       "      <th>5</th>\n",
       "      <td>1106812</td>\n",
       "      <td>1.000000</td>\n",
       "    </tr>\n",
       "  </tbody>\n",
       "</table>\n",
       "</div>"
      ],
      "text/plain": [
       "          grid_ids         w\n",
       "nhru_v11                    \n",
       "1          1385235  1.000000\n",
       "2          1105414  1.000000\n",
       "3           275660  1.000000\n",
       "4           551321  0.999999\n",
       "5          1106812  1.000000"
      ]
     },
     "execution_count": 5,
     "metadata": {},
     "output_type": "execute_result"
    }
   ],
   "source": [
    "wght_sum = pd_wght_f.groupby(wghts_id).sum()\n",
    "wght_sum.head()\n"
   ]
  },
  {
   "cell_type": "code",
   "execution_count": 6,
   "metadata": {},
   "outputs": [
    {
     "data": {
      "text/plain": [
       "array([     1,      2,      3, ..., 114956, 114957, 114958])"
      ]
     },
     "execution_count": 6,
     "metadata": {},
     "output_type": "execute_result"
    }
   ],
   "source": [
    "wght_sum.index.values"
   ]
  },
  {
   "cell_type": "markdown",
   "metadata": {},
   "source": [
    "---\n",
    "\n",
    "By the nature of the algorithm to generate the weights file, those HRUs outside of conus are not included in the weights file.  However those HRUs with partial area within the Gridmet footprint with have wieghts that sum to less than 1\n",
    "\n",
    "___"
   ]
  },
  {
   "cell_type": "code",
   "execution_count": 7,
   "metadata": {},
   "outputs": [
    {
     "data": {
      "image/png": "[encoded data removed]",
      "text/plain": [
       "<Figure size 432x288 with 1 Axes>"
      ]
     },
     "metadata": {
      "needs_background": "light"
     },
     "output_type": "display_data"
    }
   ],
   "source": [
    "wght_sum.w.plot()\n",
    "ax = plt.gca()\n",
    "ax.ticklabel_format(useOffset=False)"
   ]
  },
  {
   "cell_type": "markdown",
   "metadata": {},
   "source": [
    "___\n",
    "\n",
    "Gather the HRU weights that sum to less than 1.  These are the HRUs partially filled by Gridmet and print to file GM_Partial_HRUs.txt\n",
    "\n",
    "___"
   ]
  },
  {
   "cell_type": "code",
   "execution_count": 8,
   "metadata": {},
   "outputs": [
    {
     "name": "stdout",
     "output_type": "stream",
     "text": [
      "          grid_ids         w\n",
      "nhru_v11                    \n",
      "175        3438552  0.927611\n",
      "213        1519020  0.202471\n",
      "268        2503058  0.449901\n",
      "310        1011362  0.999999\n",
      "315         557163  0.302366\n"
     ]
    }
   ],
   "source": [
    "oc_hru = wght_sum.loc[wght_sum['w'] < 0.999999]\n",
    "print(oc_hru.head())\n",
    "tmp = oc_hru.index.values.astype(int)\n",
    "np.set_printoptions(suppress=True)\n",
    "np.savetxt('GM_Partial_HRUs.txt', tmp, fmt='%6d')"
   ]
  },
  {
   "cell_type": "markdown",
   "metadata": {},
   "source": [
    "---\n",
    "Gather HRUs that are completely outside of the Gridmet footprint.  These will be HRUs that have no weights.  Print to file GM_NoWeight_HRUs.txt\n",
    "\n",
    "---"
   ]
  },
  {
   "cell_type": "code",
   "execution_count": 9,
   "metadata": {},
   "outputs": [
    {
     "name": "stderr",
     "output_type": "stream",
     "text": [
      "/home/rmcd/miniconda3/envs/ofp_env/lib/python3.7/site-packages/pandas/core/indexing.py:376: SettingWithCopyWarning: \n",
      "A value is trying to be set on a copy of a slice from a DataFrame.\n",
      "Try using .loc[row_indexer,col_indexer] = value instead\n",
      "\n",
      "See the caveats in the documentation: http://pandas.pydata.org/pandas-docs/stable/user_guide/indexing.html#returning-a-view-versus-a-copy\n",
      "  self.obj[key] = _infer_fill_value(value)\n",
      "/home/rmcd/miniconda3/envs/ofp_env/lib/python3.7/site-packages/pandas/core/indexing.py:494: SettingWithCopyWarning: \n",
      "A value is trying to be set on a copy of a slice from a DataFrame.\n",
      "Try using .loc[row_indexer,col_indexer] = value instead\n",
      "\n",
      "See the caveats in the documentation: http://pandas.pydata.org/pandas-docs/stable/user_guide/indexing.html#returning-a-view-versus-a-copy\n",
      "  self.obj[item] = s\n"
     ]
    }
   ],
   "source": [
    "# gather the HRUs that have partial weights\n",
    "oc1_gdf = gdf[gdf['nhru_v11'].isin(oc_hru.index.values)]\n",
    "oc1_gdf.loc[:,'hru_type'] = 0\n",
    "# print(oc1_gdf.head())\n",
    "\n",
    "# gather the HRUs that are have no wieghts\n",
    "oc2_gdf = gdf[~gdf['nhru_v11'].isin(wght_sum.index.values)]\n",
    "oc2_gdf.loc[:,'hru_type'] = 1\n",
    "# print(oc2_gdf.head())\n",
    "# write the hru-ids that have no wieghts to a file\n",
    "np.savetxt('GM_NoWieght_HRUs.txt', oc2_gdf['nhru_v11'].values, fmt='%6d')\n",
    "\n",
    "# gather the HRUs that are completely in the Gridmet footprint\n",
    "ic_gdf = gdf[gdf['nhru_v11'].isin(wght_sum.index.values)]\n",
    "ic_gdf.loc[:,'hru_type'] = 2\n",
    "# print(ic_gdf.head())\n"
   ]
  },
  {
   "cell_type": "markdown",
   "metadata": {},
   "source": [
    "---\n",
    "\n",
    "Plot the 3 different catagories of mapped values\n",
    "---"
   ]
  },
  {
   "cell_type": "code",
   "execution_count": 10,
   "metadata": {},
   "outputs": [
    {
     "data": {
      "text/plain": [
       "Text(0.5, 1, 'Gridmet')"
      ]
     },
     "execution_count": 10,
     "metadata": {},
     "output_type": "execute_result"
    },
    {
     "data": {
      "image/png": "[encoded data removed]",
      "text/plain": [
       "<Figure size 432x288 with 3 Axes>"
      ]
     },
     "metadata": {
      "needs_background": "light"
     },
     "output_type": "display_data"
    }
   ],
   "source": [
    "fig, ax = plt.subplots(1,3)\n",
    "oc1_gdf.plot(column='hru_type', ax=ax[0])\n",
    "ax[0].set_title('Partial_weights')\n",
    "oc2_gdf.plot(column='hru_type', ax=ax[1])\n",
    "ax[1].set_title('Outside_Gridmet')\n",
    "ic_gdf.plot(column='hru_type', ax=ax[2])\n",
    "ax[2].set_title('Gridmet')"
   ]
  },
  {
   "cell_type": "markdown",
   "metadata": {},
   "source": [
    "---\n",
    "\n",
    "Different mapping\n",
    "\n",
    "I modified the following example to generate a catagorical color table for the plot below:\n",
    "https://towardsdatascience.com/create-categorical-choropleth-with-python-122da5ae6764\n",
    "\n",
    "---"
   ]
  },
  {
   "cell_type": "code",
   "execution_count": 11,
   "metadata": {},
   "outputs": [],
   "source": [
    "full_gdf = pd.concat([oc1_gdf, oc2_gdf, ic_gdf])"
   ]
  },
  {
   "cell_type": "code",
   "execution_count": 12,
   "metadata": {},
   "outputs": [
    {
     "data": {
      "text/plain": [
       "(0.19215686274509805, 0.5098039215686274, 0.7411764705882353, 1.0)"
      ]
     },
     "execution_count": 12,
     "metadata": {},
     "output_type": "execute_result"
    }
   ],
   "source": [
    "from matplotlib import cm\n",
    "# Prepare the colors\n",
    "keys = list(full_gdf['hru_type'].unique())\n",
    "color_range = list(np.linspace(0, 1, len(keys), endpoint=False))\n",
    "colors = [cm.tab20c(x) for x in color_range]\n",
    "color_dict = dict(zip(keys, colors))\n",
    "color_dict['Gridmet'] = 'lightgray'\n",
    "\n",
    "color_dict[0]\n",
    "# full_gdf.plot(column='hru_type', legend=True)"
   ]
  },
  {
   "cell_type": "code",
   "execution_count": 13,
   "metadata": {},
   "outputs": [
    {
     "data": {
      "text/plain": [
       "([<matplotlib.patches.Wedge at 0x7fffa5992ed0>],\n",
       " [Text(-0.44000000000000006, 5.388445916248355e-17, 'Gridmet')])"
      ]
     },
     "execution_count": 13,
     "metadata": {},
     "output_type": "execute_result"
    },
    {
     "data": {
      "image/png": "[encoded data removed]",
      "text/plain": [
       "<Figure size 432x288 with 4 Axes>"
      ]
     },
     "metadata": {
      "needs_background": "light"
     },
     "output_type": "display_data"
    }
   ],
   "source": [
    "# Prepare the grid\n",
    "row_count = full_gdf['hru_type'].nunique()\n",
    "ax_list = []\n",
    "for i in range(row_count+1):\n",
    "    ax_list.append('ax' + str(i+1))\n",
    "    ax_string = ', '.join(ax_list)\n",
    "    \n",
    "fig, (ax_string) = plt.subplots(row_count, 4)\n",
    "ax1 = plt.subplot2grid((row_count,4), (0,1), rowspan=row_count, colspan=3)\n",
    "oc1_gdf.plot(color=color_dict[0], ax=ax1)\n",
    "oc2_gdf.plot(color=color_dict[1], ax=ax1)\n",
    "ic_gdf.plot(color=color_dict['Gridmet'], ax=ax1)\n",
    "\n",
    "plt.subplot2grid((row_count,4),(0,0))\n",
    "plt.pie([1], labels=['Partial_weights'], radius=0.4, colors=[color_dict[0]])\n",
    "\n",
    "plt.subplot2grid((row_count,4),(1,0))\n",
    "plt.pie([1], labels=['Outside_Gridmet'], radius=0.4, colors=[color_dict[1]])\n",
    "\n",
    "plt.subplot2grid((row_count,4),(2,0))\n",
    "plt.pie([1], labels=['Gridmet'], radius=0.4, colors=[color_dict['Gridmet']])"
   ]
  },
  {
   "cell_type": "markdown",
   "metadata": {},
   "source": [
    "---\n",
    "# plot sum of weights for all HRUs that are fully mapped\n",
    "\n",
    "---"
   ]
  },
  {
   "cell_type": "code",
   "execution_count": 14,
   "metadata": {},
   "outputs": [],
   "source": [
    "ic_whts = wght_sum[wght_sum.index.isin(gdf['nhru_v11'].values) & ~wght_sum.index.isin(oc_hru.index.values)]\n"
   ]
  },
  {
   "cell_type": "code",
   "execution_count": 15,
   "metadata": {},
   "outputs": [
    {
     "data": {
      "image/png": "[encoded data removed]",
      "text/plain": [
       "<Figure size 432x288 with 1 Axes>"
      ]
     },
     "metadata": {
      "needs_background": "light"
     },
     "output_type": "display_data"
    }
   ],
   "source": [
    "ic_whts.w.plot()\n",
    "ax = plt.gca()\n",
    "ax.ticklabel_format(useOffset=False)"
   ]
  },
  {
   "cell_type": "markdown",
   "metadata": {},
   "source": [
    "---\n",
    "# Plot example day from the Raw Gridmet data and the HRU-Mapped data\n",
    "\n",
    "---"
   ]
  },
  {
   "cell_type": "markdown",
   "metadata": {},
   "source": [
    "Pull the an example file for tmax from the raw gridmet data"
   ]
  },
  {
   "cell_type": "code",
   "execution_count": 16,
   "metadata": {},
   "outputs": [],
   "source": [
    "ftmax = list(p_gmr.glob('2018_gm_tmax*.nc'))"
   ]
  },
  {
   "cell_type": "code",
   "execution_count": 17,
   "metadata": {},
   "outputs": [
    {
     "data": {
      "text/html": [
       "<div><svg style=\"position: absolute; width: 0; height: 0; overflow: hidden\">\n",
       "<defs>\n",
       "<symbol id=\"icon-database\" viewBox=\"0 0 32 32\">\n",
       "<title>Show/Hide data repr</title>\n",
       "<path d=\"M16 0c-8.837 0-16 2.239-16 5v4c0 2.761 7.163 5 16 5s16-2.239 16-5v-4c0-2.761-7.163-5-16-5z\"></path>\n",
       "<path d=\"M16 17c-8.837 0-16-2.239-16-5v6c0 2.761 7.163 5 16 5s16-2.239 16-5v-6c0 2.761-7.163 5-16 5z\"></path>\n",
       "<path d=\"M16 26c-8.837 0-16-2.239-16-5v6c0 2.761 7.163 5 16 5s16-2.239 16-5v-6c0 2.761-7.163 5-16 5z\"></path>\n",
       "</symbol>\n",
       "<symbol id=\"icon-file-text2\" viewBox=\"0 0 32 32\">\n",
       "<title>Show/Hide attributes</title>\n",
       "<path d=\"M28.681 7.159c-0.694-0.947-1.662-2.053-2.724-3.116s-2.169-2.030-3.116-2.724c-1.612-1.182-2.393-1.319-2.841-1.319h-15.5c-1.378 0-2.5 1.121-2.5 2.5v27c0 1.378 1.122 2.5 2.5 2.5h23c1.378 0 2.5-1.122 2.5-2.5v-19.5c0-0.448-0.137-1.23-1.319-2.841zM24.543 5.457c0.959 0.959 1.712 1.825 2.268 2.543h-4.811v-4.811c0.718 0.556 1.584 1.309 2.543 2.268zM28 29.5c0 0.271-0.229 0.5-0.5 0.5h-23c-0.271 0-0.5-0.229-0.5-0.5v-27c0-0.271 0.229-0.5 0.5-0.5 0 0 15.499-0 15.5 0v7c0 0.552 0.448 1 1 1h7v19.5z\"></path>\n",
       "<path d=\"M23 26h-14c-0.552 0-1-0.448-1-1s0.448-1 1-1h14c0.552 0 1 0.448 1 1s-0.448 1-1 1z\"></path>\n",
       "<path d=\"M23 22h-14c-0.552 0-1-0.448-1-1s0.448-1 1-1h14c0.552 0 1 0.448 1 1s-0.448 1-1 1z\"></path>\n",
       "<path d=\"M23 18h-14c-0.552 0-1-0.448-1-1s0.448-1 1-1h14c0.552 0 1 0.448 1 1s-0.448 1-1 1z\"></path>\n",
       "</symbol>\n",
       "</defs>\n",
       "</svg>\n",
       "<style>/* CSS stylesheet for displaying xarray objects in jupyterlab.\n",
       " *\n",
       " */\n",
       "\n",
       ":root {\n",
       "  --xr-font-color0: var(--jp-content-font-color0, rgba(0, 0, 0, 1));\n",
       "  --xr-font-color2: var(--jp-content-font-color2, rgba(0, 0, 0, 0.54));\n",
       "  --xr-font-color3: var(--jp-content-font-color3, rgba(0, 0, 0, 0.38));\n",
       "  --xr-border-color: var(--jp-border-color2, #e0e0e0);\n",
       "  --xr-disabled-color: var(--jp-layout-color3, #bdbdbd);\n",
       "  --xr-background-color: var(--jp-layout-color0, white);\n",
       "  --xr-background-color-row-even: var(--jp-layout-color1, white);\n",
       "  --xr-background-color-row-odd: var(--jp-layout-color2, #eeeeee);\n",
       "}\n",
       "\n",
       ".xr-wrap {\n",
       "  min-width: 300px;\n",
       "  max-width: 700px;\n",
       "}\n",
       "\n",
       ".xr-header {\n",
       "  padding-top: 6px;\n",
       "  padding-bottom: 6px;\n",
       "  margin-bottom: 4px;\n",
       "  border-bottom: solid 1px var(--xr-border-color);\n",
       "}\n",
       "\n",
       ".xr-header > div,\n",
       ".xr-header > ul {\n",
       "  display: inline;\n",
       "  margin-top: 0;\n",
       "  margin-bottom: 0;\n",
       "}\n",
       "\n",
       ".xr-obj-type,\n",
       ".xr-array-name {\n",
       "  margin-left: 2px;\n",
       "  margin-right: 10px;\n",
       "}\n",
       "\n",
       ".xr-obj-type {\n",
       "  color: var(--xr-font-color2);\n",
       "}\n",
       "\n",
       ".xr-sections {\n",
       "  padding-left: 0 !important;\n",
       "  display: grid;\n",
       "  grid-template-columns: 150px auto auto 1fr 20px 20px;\n",
       "}\n",
       "\n",
       ".xr-section-item {\n",
       "  display: contents;\n",
       "}\n",
       "\n",
       ".xr-section-item input {\n",
       "  display: none;\n",
       "}\n",
       "\n",
       ".xr-section-item input + label {\n",
       "  color: var(--xr-disabled-color);\n",
       "}\n",
       "\n",
       ".xr-section-item input:enabled + label {\n",
       "  cursor: pointer;\n",
       "  color: var(--xr-font-color2);\n",
       "}\n",
       "\n",
       ".xr-section-item input:enabled + label:hover {\n",
       "  color: var(--xr-font-color0);\n",
       "}\n",
       "\n",
       ".xr-section-summary {\n",
       "  grid-column: 1;\n",
       "  color: var(--xr-font-color2);\n",
       "  font-weight: 500;\n",
       "}\n",
       "\n",
       ".xr-section-summary > span {\n",
       "  display: inline-block;\n",
       "  padding-left: 0.5em;\n",
       "}\n",
       "\n",
       ".xr-section-summary-in:disabled + label {\n",
       "  color: var(--xr-font-color2);\n",
       "}\n",
       "\n",
       ".xr-section-summary-in + label:before {\n",
       "  display: inline-block;\n",
       "  content: '►';\n",
       "  font-size: 11px;\n",
       "  width: 15px;\n",
       "  text-align: center;\n",
       "}\n",
       "\n",
       ".xr-section-summary-in:disabled + label:before {\n",
       "  color: var(--xr-disabled-color);\n",
       "}\n",
       "\n",
       ".xr-section-summary-in:checked + label:before {\n",
       "  content: '▼';\n",
       "}\n",
       "\n",
       ".xr-section-summary-in:checked + label > span {\n",
       "  display: none;\n",
       "}\n",
       "\n",
       ".xr-section-summary,\n",
       ".xr-section-inline-details {\n",
       "  padding-top: 4px;\n",
       "  padding-bottom: 4px;\n",
       "}\n",
       "\n",
       ".xr-section-inline-details {\n",
       "  grid-column: 2 / -1;\n",
       "}\n",
       "\n",
       ".xr-section-details {\n",
       "  display: none;\n",
       "  grid-column: 1 / -1;\n",
       "  margin-bottom: 5px;\n",
       "}\n",
       "\n",
       ".xr-section-summary-in:checked ~ .xr-section-details {\n",
       "  display: contents;\n",
       "}\n",
       "\n",
       ".xr-array-wrap {\n",
       "  grid-column: 1 / -1;\n",
       "  display: grid;\n",
       "  grid-template-columns: 20px auto;\n",
       "}\n",
       "\n",
       ".xr-array-wrap > label {\n",
       "  grid-column: 1;\n",
       "  vertical-align: top;\n",
       "}\n",
       "\n",
       ".xr-preview {\n",
       "  color: var(--xr-font-color3);\n",
       "}\n",
       "\n",
       ".xr-array-preview,\n",
       ".xr-array-data {\n",
       "  padding: 0 5px !important;\n",
       "  grid-column: 2;\n",
       "}\n",
       "\n",
       ".xr-array-data,\n",
       ".xr-array-in:checked ~ .xr-array-preview {\n",
       "  display: none;\n",
       "}\n",
       "\n",
       ".xr-array-in:checked ~ .xr-array-data,\n",
       ".xr-array-preview {\n",
       "  display: inline-block;\n",
       "}\n",
       "\n",
       ".xr-dim-list {\n",
       "  display: inline-block !important;\n",
       "  list-style: none;\n",
       "  padding: 0 !important;\n",
       "  margin: 0;\n",
       "}\n",
       "\n",
       ".xr-dim-list li {\n",
       "  display: inline-block;\n",
       "  padding: 0;\n",
       "  margin: 0;\n",
       "}\n",
       "\n",
       ".xr-dim-list:before {\n",
       "  content: '(';\n",
       "}\n",
       "\n",
       ".xr-dim-list:after {\n",
       "  content: ')';\n",
       "}\n",
       "\n",
       ".xr-dim-list li:not(:last-child):after {\n",
       "  content: ',';\n",
       "  padding-right: 5px;\n",
       "}\n",
       "\n",
       ".xr-has-index {\n",
       "  font-weight: bold;\n",
       "}\n",
       "\n",
       ".xr-var-list,\n",
       ".xr-var-item {\n",
       "  display: contents;\n",
       "}\n",
       "\n",
       ".xr-var-item > div,\n",
       ".xr-var-item label,\n",
       ".xr-var-item > .xr-var-name span {\n",
       "  background-color: var(--xr-background-color-row-even);\n",
       "  margin-bottom: 0;\n",
       "}\n",
       "\n",
       ".xr-var-item > .xr-var-name:hover span {\n",
       "  padding-right: 5px;\n",
       "}\n",
       "\n",
       ".xr-var-list > li:nth-child(odd) > div,\n",
       ".xr-var-list > li:nth-child(odd) > label,\n",
       ".xr-var-list > li:nth-child(odd) > .xr-var-name span {\n",
       "  background-color: var(--xr-background-color-row-odd);\n",
       "}\n",
       "\n",
       ".xr-var-name {\n",
       "  grid-column: 1;\n",
       "}\n",
       "\n",
       ".xr-var-dims {\n",
       "  grid-column: 2;\n",
       "}\n",
       "\n",
       ".xr-var-dtype {\n",
       "  grid-column: 3;\n",
       "  text-align: right;\n",
       "  color: var(--xr-font-color2);\n",
       "}\n",
       "\n",
       ".xr-var-preview {\n",
       "  grid-column: 4;\n",
       "}\n",
       "\n",
       ".xr-var-name,\n",
       ".xr-var-dims,\n",
       ".xr-var-dtype,\n",
       ".xr-preview,\n",
       ".xr-attrs dt {\n",
       "  white-space: nowrap;\n",
       "  overflow: hidden;\n",
       "  text-overflow: ellipsis;\n",
       "  padding-right: 10px;\n",
       "}\n",
       "\n",
       ".xr-var-name:hover,\n",
       ".xr-var-dims:hover,\n",
       ".xr-var-dtype:hover,\n",
       ".xr-attrs dt:hover {\n",
       "  overflow: visible;\n",
       "  width: auto;\n",
       "  z-index: 1;\n",
       "}\n",
       "\n",
       ".xr-var-attrs,\n",
       ".xr-var-data {\n",
       "  display: none;\n",
       "  background-color: var(--xr-background-color) !important;\n",
       "  padding-bottom: 5px !important;\n",
       "}\n",
       "\n",
       ".xr-var-attrs-in:checked ~ .xr-var-attrs,\n",
       ".xr-var-data-in:checked ~ .xr-var-data {\n",
       "  display: block;\n",
       "}\n",
       "\n",
       ".xr-var-data > table {\n",
       "  float: right;\n",
       "}\n",
       "\n",
       ".xr-var-name span,\n",
       ".xr-var-data,\n",
       ".xr-attrs {\n",
       "  padding-left: 25px !important;\n",
       "}\n",
       "\n",
       ".xr-attrs,\n",
       ".xr-var-attrs,\n",
       ".xr-var-data {\n",
       "  grid-column: 1 / -1;\n",
       "}\n",
       "\n",
       "dl.xr-attrs {\n",
       "  padding: 0;\n",
       "  margin: 0;\n",
       "  display: grid;\n",
       "  grid-template-columns: 125px auto;\n",
       "}\n",
       "\n",
       ".xr-attrs dt, dd {\n",
       "  padding: 0;\n",
       "  margin: 0;\n",
       "  float: left;\n",
       "  padding-right: 10px;\n",
       "  width: auto;\n",
       "}\n",
       "\n",
       ".xr-attrs dt {\n",
       "  font-weight: normal;\n",
       "  grid-column: 1;\n",
       "}\n",
       "\n",
       ".xr-attrs dt:hover span {\n",
       "  display: inline-block;\n",
       "  background: var(--xr-background-color);\n",
       "  padding-right: 10px;\n",
       "}\n",
       "\n",
       ".xr-attrs dd {\n",
       "  grid-column: 2;\n",
       "  white-space: pre-wrap;\n",
       "  word-break: break-all;\n",
       "}\n",
       "\n",
       ".xr-icon-database,\n",
       ".xr-icon-file-text2 {\n",
       "  display: inline-block;\n",
       "  vertical-align: middle;\n",
       "  width: 1em;\n",
       "  height: 1.5em !important;\n",
       "  stroke-width: 0;\n",
       "  stroke: currentColor;\n",
       "  fill: currentColor;\n",
       "}\n",
       "</style><div class='xr-wrap'><div class='xr-header'><div class='xr-obj-type'>xarray.Dataset</div></div><ul class='xr-sections'><li class='xr-section-item'><input id='section-2bcefe38-0b4a-4819-ab04-2ffabc3ae085' class='xr-section-summary-in' type='checkbox' disabled ><label for='section-2bcefe38-0b4a-4819-ab04-2ffabc3ae085' class='xr-section-summary'  title='Expand/collapse section'>Dimensions:</label><div class='xr-section-inline-details'><ul class='xr-dim-list'><li><span class='xr-has-index'>day</span>: 365</li><li><span class='xr-has-index'>lat</span>: 585</li><li><span class='xr-has-index'>lon</span>: 1386</li></ul></div><div class='xr-section-details'></div></li><li class='xr-section-item'><input id='section-5e782bcf-7737-4cf0-ac70-d6c845ccaea3' class='xr-section-summary-in' type='checkbox'  checked><label for='section-5e782bcf-7737-4cf0-ac70-d6c845ccaea3' class='xr-section-summary' >Coordinates: <span>(3)</span></label><div class='xr-section-inline-details'></div><div class='xr-section-details'><ul class='xr-var-list'><li class='xr-var-item'><div class='xr-var-name'><span class='xr-has-index'>day</span></div><div class='xr-var-dims'>(day)</div><div class='xr-var-dtype'>datetime64[ns]</div><div class='xr-var-preview xr-preview'>2018-01-01 ... 2018-12-31</div><input id='attrs-6b81eb46-8c7d-4881-ac69-b1bc426b7617' class='xr-var-attrs-in' type='checkbox' ><label for='attrs-6b81eb46-8c7d-4881-ac69-b1bc426b7617' title='Show/Hide attributes'><svg class='icon xr-icon-file-text2'><use xlink:href='#icon-file-text2'></use></svg></label><input id='data-47eb9fd6-65a7-469d-ab25-a8ac7f69643c' class='xr-var-data-in' type='checkbox'><label for='data-47eb9fd6-65a7-469d-ab25-a8ac7f69643c' title='Show/Hide data repr'><svg class='icon xr-icon-database'><use xlink:href='#icon-database'></use></svg></label><div class='xr-var-attrs'><dl class='xr-attrs'><dt><span>description :</span></dt><dd>days since 1900-01-01</dd><dt><span>long_name :</span></dt><dd>time</dd><dt><span>standard_name :</span></dt><dd>time</dd><dt><span>_ChunkSizes :</span></dt><dd>365</dd><dt><span>_CoordinateAxisType :</span></dt><dd>Time</dd></dl></div><pre class='xr-var-data'>array([&#x27;2018-01-01T00:00:00.000000000&#x27;, &#x27;2018-01-02T00:00:00.000000000&#x27;,\n",
       "       &#x27;2018-01-03T00:00:00.000000000&#x27;, ..., &#x27;2018-12-29T00:00:00.000000000&#x27;,\n",
       "       &#x27;2018-12-30T00:00:00.000000000&#x27;, &#x27;2018-12-31T00:00:00.000000000&#x27;],\n",
       "      dtype=&#x27;datetime64[ns]&#x27;)</pre></li><li class='xr-var-item'><div class='xr-var-name'><span class='xr-has-index'>lat</span></div><div class='xr-var-dims'>(lat)</div><div class='xr-var-dtype'>float64</div><div class='xr-var-preview xr-preview'>49.4 49.36 49.32 ... 25.11 25.07</div><input id='attrs-c1d07851-f09c-42d4-b3d9-adb619e65d0f' class='xr-var-attrs-in' type='checkbox' ><label for='attrs-c1d07851-f09c-42d4-b3d9-adb619e65d0f' title='Show/Hide attributes'><svg class='icon xr-icon-file-text2'><use xlink:href='#icon-file-text2'></use></svg></label><input id='data-5729bcfe-05a1-4e64-bd40-0d994a5d95a1' class='xr-var-data-in' type='checkbox'><label for='data-5729bcfe-05a1-4e64-bd40-0d994a5d95a1' title='Show/Hide data repr'><svg class='icon xr-icon-database'><use xlink:href='#icon-database'></use></svg></label><div class='xr-var-attrs'><dl class='xr-attrs'><dt><span>units :</span></dt><dd>degrees_north</dd><dt><span>description :</span></dt><dd>latitude</dd><dt><span>long_name :</span></dt><dd>latitude</dd><dt><span>standard_name :</span></dt><dd>latitude</dd><dt><span>axis :</span></dt><dd>Y</dd><dt><span>_ChunkSizes :</span></dt><dd>585</dd><dt><span>_CoordinateAxisType :</span></dt><dd>Lat</dd></dl></div><pre class='xr-var-data'>array([49.4     , 49.358333, 49.316667, ..., 25.15    , 25.108333, 25.066667])</pre></li><li class='xr-var-item'><div class='xr-var-name'><span class='xr-has-index'>lon</span></div><div class='xr-var-dims'>(lon)</div><div class='xr-var-dtype'>float64</div><div class='xr-var-preview xr-preview'>-124.8 -124.7 ... -67.1 -67.06</div><input id='attrs-82f19436-4eef-43a7-b059-d1df3d77613c' class='xr-var-attrs-in' type='checkbox' ><label for='attrs-82f19436-4eef-43a7-b059-d1df3d77613c' title='Show/Hide attributes'><svg class='icon xr-icon-file-text2'><use xlink:href='#icon-file-text2'></use></svg></label><input id='data-fa2e2167-8833-4c0e-ba9a-0d79ad5b398d' class='xr-var-data-in' type='checkbox'><label for='data-fa2e2167-8833-4c0e-ba9a-0d79ad5b398d' title='Show/Hide data repr'><svg class='icon xr-icon-database'><use xlink:href='#icon-database'></use></svg></label><div class='xr-var-attrs'><dl class='xr-attrs'><dt><span>units :</span></dt><dd>degrees_east</dd><dt><span>description :</span></dt><dd>longitude</dd><dt><span>long_name :</span></dt><dd>longitude</dd><dt><span>standard_name :</span></dt><dd>longitude</dd><dt><span>axis :</span></dt><dd>X</dd><dt><span>_ChunkSizes :</span></dt><dd>1386</dd><dt><span>_CoordinateAxisType :</span></dt><dd>Lon</dd></dl></div><pre class='xr-var-data'>array([-124.766667, -124.725   , -124.683333, ...,  -67.141667,  -67.1     ,\n",
       "        -67.058333])</pre></li></ul></div></li><li class='xr-section-item'><input id='section-f274ac48-224c-420e-90fc-993d354dc010' class='xr-section-summary-in' type='checkbox'  checked><label for='section-f274ac48-224c-420e-90fc-993d354dc010' class='xr-section-summary' >Data variables: <span>(1)</span></label><div class='xr-section-inline-details'></div><div class='xr-section-details'><ul class='xr-var-list'><li class='xr-var-item'><div class='xr-var-name'><span>daily_maximum_temperature</span></div><div class='xr-var-dims'>(day, lat, lon)</div><div class='xr-var-dtype'>float32</div><div class='xr-var-preview xr-preview'>...</div><input id='attrs-c80a9559-f63c-48f7-9b3a-35108c6f0380' class='xr-var-attrs-in' type='checkbox' ><label for='attrs-c80a9559-f63c-48f7-9b3a-35108c6f0380' title='Show/Hide attributes'><svg class='icon xr-icon-file-text2'><use xlink:href='#icon-file-text2'></use></svg></label><input id='data-11c5502b-55c9-4eb0-954d-8d4628ecf498' class='xr-var-data-in' type='checkbox'><label for='data-11c5502b-55c9-4eb0-954d-8d4628ecf498' title='Show/Hide data repr'><svg class='icon xr-icon-database'><use xlink:href='#icon-database'></use></svg></label><div class='xr-var-attrs'><dl class='xr-attrs'><dt><span>units :</span></dt><dd>K</dd><dt><span>description :</span></dt><dd>Daily Maximum Temperature</dd><dt><span>long_name :</span></dt><dd>tmmx</dd><dt><span>standard_name :</span></dt><dd>tmmx</dd><dt><span>dimensions :</span></dt><dd>lon lat time</dd><dt><span>grid_mapping :</span></dt><dd>crs</dd><dt><span>coordinate_system :</span></dt><dd>WGS84,EPSG:4326</dd><dt><span>_ChunkSizes :</span></dt><dd>[ 61  98 231]</dd></dl></div><pre class='xr-var-data'>[295945650 values with dtype=float32]</pre></li></ul></div></li><li class='xr-section-item'><input id='section-4cc778be-8fd2-4c79-800b-2951417397ad' class='xr-section-summary-in' type='checkbox'  ><label for='section-4cc778be-8fd2-4c79-800b-2951417397ad' class='xr-section-summary' >Attributes: <span>(20)</span></label><div class='xr-section-inline-details'></div><div class='xr-section-details'><dl class='xr-attrs'><dt><span>geospatial_bounds_crs :</span></dt><dd>EPSG:4326</dd><dt><span>Conventions :</span></dt><dd>CF-1.0</dd><dt><span>geospatial_bounds :</span></dt><dd>POLYGON((-124.7666666333333 49.400000000000000, -124.7666666333333 25.066666666666666, -67.058333300000015 25.066666666666666, -67.058333300000015 49.400000000000000, -124.7666666333333 49.400000000000000))</dd><dt><span>geospatial_lat_min :</span></dt><dd>25.066666666666666</dd><dt><span>geospatial_lat_max :</span></dt><dd>49.400000000000006</dd><dt><span>geospatial_lon_min :</span></dt><dd>-124.76666663333334</dd><dt><span>geospatial_lon_max :</span></dt><dd>-67.05833330000002</dd><dt><span>geospatial_lon_resolution :</span></dt><dd>0.041666666666666</dd><dt><span>geospatial_lat_resolution :</span></dt><dd>0.041666666666666</dd><dt><span>geospatial_lat_units :</span></dt><dd>decimal_degrees north</dd><dt><span>geospatial_lon_units :</span></dt><dd>decimal_degrees east</dd><dt><span>coordinate_system :</span></dt><dd>EPSG:4326</dd><dt><span>author :</span></dt><dd>John Abatzoglou - University of Idaho, jabatzoglou@uidaho.edu</dd><dt><span>date :</span></dt><dd>02 March 2020</dd><dt><span>note1 :</span></dt><dd>The projection information for this file is: GCS WGS 1984.</dd><dt><span>note2 :</span></dt><dd>Citation: Abatzoglou, J.T., 2013, Development of gridded surface meteorological data for ecological applications and modeling, International Journal of Climatology, DOI: 10.1002/joc.3413</dd><dt><span>note3 :</span></dt><dd>Data in slices after last_permanent_slice (1-based) are considered provisional and subject to change with subsequent updates</dd><dt><span>note4 :</span></dt><dd>Data in slices after last_provisional_slice (1-based) are considered early and subject to change with subsequent updates</dd><dt><span>note5 :</span></dt><dd>Days correspond approximately to calendar days ending at midnight, Mountain Standard Time (7 UTC the next calendar day)</dd><dt><span>History :</span></dt><dd>Translated to CF-1.0 Conventions by Netcdf-Java CDM (CFGridWriter2)\n",
       "Original Dataset = agg_met_tmmx_1979_CurrentYear_CONUS.nc; Translation Date = 2020-03-11T01:18:34.890Z</dd></dl></div></li></ul></div></div>"
      ],
      "text/plain": [
       "<xarray.Dataset>\n",
       "Dimensions:                    (day: 365, lat: 585, lon: 1386)\n",
       "Coordinates:\n",
       "  * day                        (day) datetime64[ns] 2018-01-01 ... 2018-12-31\n",
       "  * lat                        (lat) float64 49.4 49.36 49.32 ... 25.11 25.07\n",
       "  * lon                        (lon) float64 -124.8 -124.7 ... -67.1 -67.06\n",
       "Data variables:\n",
       "    daily_maximum_temperature  (day, lat, lon) float32 ...\n",
       "Attributes:\n",
       "    geospatial_bounds_crs:      EPSG:4326\n",
       "    Conventions:                CF-1.0\n",
       "    geospatial_bounds:          POLYGON((-124.7666666333333 49.40000000000000...\n",
       "    geospatial_lat_min:         25.066666666666666\n",
       "    geospatial_lat_max:         49.400000000000006\n",
       "    geospatial_lon_min:         -124.76666663333334\n",
       "    geospatial_lon_max:         -67.05833330000002\n",
       "    geospatial_lon_resolution:  0.041666666666666\n",
       "    geospatial_lat_resolution:  0.041666666666666\n",
       "    geospatial_lat_units:       decimal_degrees north\n",
       "    geospatial_lon_units:       decimal_degrees east\n",
       "    coordinate_system:          EPSG:4326\n",
       "    author:                     John Abatzoglou - University of Idaho, jabatz...\n",
       "    date:                       02 March 2020\n",
       "    note1:                      The projection information for this file is: ...\n",
       "    note2:                      Citation: Abatzoglou, J.T., 2013, Development...\n",
       "    note3:                      Data in slices after last_permanent_slice (1-...\n",
       "    note4:                      Data in slices after last_provisional_slice (...\n",
       "    note5:                      Days correspond approximately to calendar day...\n",
       "    History:                    Translated to CF-1.0 Conventions by Netcdf-Ja..."
      ]
     },
     "execution_count": 17,
     "metadata": {},
     "output_type": "execute_result"
    }
   ],
   "source": [
    "dtmax = xr.open_dataset(ftmax[0])\n",
    "dtmax"
   ]
  },
  {
   "cell_type": "code",
   "execution_count": 18,
   "metadata": {},
   "outputs": [],
   "source": [
    "# import datetime as dt\n",
    "# date = dt.datetime(year=int(1980),month=1,day=1)\n",
    "# try:\n",
    "#     lon = dprcp.lon.values\n",
    "#     lat = dprcp.lat.values\n",
    "#     ndata = np.zeros((1, (np.shape(lon)[0]) * (np.shape(lat)[0])))\n",
    "#     ndata[0,:] = dprcp.daily_maximum_temperature  .sel(day=date).values.flatten()\n",
    "# except KeyError:\n",
    "#     print('error')"
   ]
  },
  {
   "cell_type": "markdown",
   "metadata": {},
   "source": [
    "Open a hru-mapped dataset for tmax"
   ]
  },
  {
   "cell_type": "code",
   "execution_count": 19,
   "metadata": {},
   "outputs": [
    {
     "data": {
      "text/html": [
       "<div><svg style=\"position: absolute; width: 0; height: 0; overflow: hidden\">\n",
       "<defs>\n",
       "<symbol id=\"icon-database\" viewBox=\"0 0 32 32\">\n",
       "<title>Show/Hide data repr</title>\n",
       "<path d=\"M16 0c-8.837 0-16 2.239-16 5v4c0 2.761 7.163 5 16 5s16-2.239 16-5v-4c0-2.761-7.163-5-16-5z\"></path>\n",
       "<path d=\"M16 17c-8.837 0-16-2.239-16-5v6c0 2.761 7.163 5 16 5s16-2.239 16-5v-6c0 2.761-7.163 5-16 5z\"></path>\n",
       "<path d=\"M16 26c-8.837 0-16-2.239-16-5v6c0 2.761 7.163 5 16 5s16-2.239 16-5v-6c0 2.761-7.163 5-16 5z\"></path>\n",
       "</symbol>\n",
       "<symbol id=\"icon-file-text2\" viewBox=\"0 0 32 32\">\n",
       "<title>Show/Hide attributes</title>\n",
       "<path d=\"M28.681 7.159c-0.694-0.947-1.662-2.053-2.724-3.116s-2.169-2.030-3.116-2.724c-1.612-1.182-2.393-1.319-2.841-1.319h-15.5c-1.378 0-2.5 1.121-2.5 2.5v27c0 1.378 1.122 2.5 2.5 2.5h23c1.378 0 2.5-1.122 2.5-2.5v-19.5c0-0.448-0.137-1.23-1.319-2.841zM24.543 5.457c0.959 0.959 1.712 1.825 2.268 2.543h-4.811v-4.811c0.718 0.556 1.584 1.309 2.543 2.268zM28 29.5c0 0.271-0.229 0.5-0.5 0.5h-23c-0.271 0-0.5-0.229-0.5-0.5v-27c0-0.271 0.229-0.5 0.5-0.5 0 0 15.499-0 15.5 0v7c0 0.552 0.448 1 1 1h7v19.5z\"></path>\n",
       "<path d=\"M23 26h-14c-0.552 0-1-0.448-1-1s0.448-1 1-1h14c0.552 0 1 0.448 1 1s-0.448 1-1 1z\"></path>\n",
       "<path d=\"M23 22h-14c-0.552 0-1-0.448-1-1s0.448-1 1-1h14c0.552 0 1 0.448 1 1s-0.448 1-1 1z\"></path>\n",
       "<path d=\"M23 18h-14c-0.552 0-1-0.448-1-1s0.448-1 1-1h14c0.552 0 1 0.448 1 1s-0.448 1-1 1z\"></path>\n",
       "</symbol>\n",
       "</defs>\n",
       "</svg>\n",
       "<style>/* CSS stylesheet for displaying xarray objects in jupyterlab.\n",
       " *\n",
       " */\n",
       "\n",
       ":root {\n",
       "  --xr-font-color0: var(--jp-content-font-color0, rgba(0, 0, 0, 1));\n",
       "  --xr-font-color2: var(--jp-content-font-color2, rgba(0, 0, 0, 0.54));\n",
       "  --xr-font-color3: var(--jp-content-font-color3, rgba(0, 0, 0, 0.38));\n",
       "  --xr-border-color: var(--jp-border-color2, #e0e0e0);\n",
       "  --xr-disabled-color: var(--jp-layout-color3, #bdbdbd);\n",
       "  --xr-background-color: var(--jp-layout-color0, white);\n",
       "  --xr-background-color-row-even: var(--jp-layout-color1, white);\n",
       "  --xr-background-color-row-odd: var(--jp-layout-color2, #eeeeee);\n",
       "}\n",
       "\n",
       ".xr-wrap {\n",
       "  min-width: 300px;\n",
       "  max-width: 700px;\n",
       "}\n",
       "\n",
       ".xr-header {\n",
       "  padding-top: 6px;\n",
       "  padding-bottom: 6px;\n",
       "  margin-bottom: 4px;\n",
       "  border-bottom: solid 1px var(--xr-border-color);\n",
       "}\n",
       "\n",
       ".xr-header > div,\n",
       ".xr-header > ul {\n",
       "  display: inline;\n",
       "  margin-top: 0;\n",
       "  margin-bottom: 0;\n",
       "}\n",
       "\n",
       ".xr-obj-type,\n",
       ".xr-array-name {\n",
       "  margin-left: 2px;\n",
       "  margin-right: 10px;\n",
       "}\n",
       "\n",
       ".xr-obj-type {\n",
       "  color: var(--xr-font-color2);\n",
       "}\n",
       "\n",
       ".xr-sections {\n",
       "  padding-left: 0 !important;\n",
       "  display: grid;\n",
       "  grid-template-columns: 150px auto auto 1fr 20px 20px;\n",
       "}\n",
       "\n",
       ".xr-section-item {\n",
       "  display: contents;\n",
       "}\n",
       "\n",
       ".xr-section-item input {\n",
       "  display: none;\n",
       "}\n",
       "\n",
       ".xr-section-item input + label {\n",
       "  color: var(--xr-disabled-color);\n",
       "}\n",
       "\n",
       ".xr-section-item input:enabled + label {\n",
       "  cursor: pointer;\n",
       "  color: var(--xr-font-color2);\n",
       "}\n",
       "\n",
       ".xr-section-item input:enabled + label:hover {\n",
       "  color: var(--xr-font-color0);\n",
       "}\n",
       "\n",
       ".xr-section-summary {\n",
       "  grid-column: 1;\n",
       "  color: var(--xr-font-color2);\n",
       "  font-weight: 500;\n",
       "}\n",
       "\n",
       ".xr-section-summary > span {\n",
       "  display: inline-block;\n",
       "  padding-left: 0.5em;\n",
       "}\n",
       "\n",
       ".xr-section-summary-in:disabled + label {\n",
       "  color: var(--xr-font-color2);\n",
       "}\n",
       "\n",
       ".xr-section-summary-in + label:before {\n",
       "  display: inline-block;\n",
       "  content: '►';\n",
       "  font-size: 11px;\n",
       "  width: 15px;\n",
       "  text-align: center;\n",
       "}\n",
       "\n",
       ".xr-section-summary-in:disabled + label:before {\n",
       "  color: var(--xr-disabled-color);\n",
       "}\n",
       "\n",
       ".xr-section-summary-in:checked + label:before {\n",
       "  content: '▼';\n",
       "}\n",
       "\n",
       ".xr-section-summary-in:checked + label > span {\n",
       "  display: none;\n",
       "}\n",
       "\n",
       ".xr-section-summary,\n",
       ".xr-section-inline-details {\n",
       "  padding-top: 4px;\n",
       "  padding-bottom: 4px;\n",
       "}\n",
       "\n",
       ".xr-section-inline-details {\n",
       "  grid-column: 2 / -1;\n",
       "}\n",
       "\n",
       ".xr-section-details {\n",
       "  display: none;\n",
       "  grid-column: 1 / -1;\n",
       "  margin-bottom: 5px;\n",
       "}\n",
       "\n",
       ".xr-section-summary-in:checked ~ .xr-section-details {\n",
       "  display: contents;\n",
       "}\n",
       "\n",
       ".xr-array-wrap {\n",
       "  grid-column: 1 / -1;\n",
       "  display: grid;\n",
       "  grid-template-columns: 20px auto;\n",
       "}\n",
       "\n",
       ".xr-array-wrap > label {\n",
       "  grid-column: 1;\n",
       "  vertical-align: top;\n",
       "}\n",
       "\n",
       ".xr-preview {\n",
       "  color: var(--xr-font-color3);\n",
       "}\n",
       "\n",
       ".xr-array-preview,\n",
       ".xr-array-data {\n",
       "  padding: 0 5px !important;\n",
       "  grid-column: 2;\n",
       "}\n",
       "\n",
       ".xr-array-data,\n",
       ".xr-array-in:checked ~ .xr-array-preview {\n",
       "  display: none;\n",
       "}\n",
       "\n",
       ".xr-array-in:checked ~ .xr-array-data,\n",
       ".xr-array-preview {\n",
       "  display: inline-block;\n",
       "}\n",
       "\n",
       ".xr-dim-list {\n",
       "  display: inline-block !important;\n",
       "  list-style: none;\n",
       "  padding: 0 !important;\n",
       "  margin: 0;\n",
       "}\n",
       "\n",
       ".xr-dim-list li {\n",
       "  display: inline-block;\n",
       "  padding: 0;\n",
       "  margin: 0;\n",
       "}\n",
       "\n",
       ".xr-dim-list:before {\n",
       "  content: '(';\n",
       "}\n",
       "\n",
       ".xr-dim-list:after {\n",
       "  content: ')';\n",
       "}\n",
       "\n",
       ".xr-dim-list li:not(:last-child):after {\n",
       "  content: ',';\n",
       "  padding-right: 5px;\n",
       "}\n",
       "\n",
       ".xr-has-index {\n",
       "  font-weight: bold;\n",
       "}\n",
       "\n",
       ".xr-var-list,\n",
       ".xr-var-item {\n",
       "  display: contents;\n",
       "}\n",
       "\n",
       ".xr-var-item > div,\n",
       ".xr-var-item label,\n",
       ".xr-var-item > .xr-var-name span {\n",
       "  background-color: var(--xr-background-color-row-even);\n",
       "  margin-bottom: 0;\n",
       "}\n",
       "\n",
       ".xr-var-item > .xr-var-name:hover span {\n",
       "  padding-right: 5px;\n",
       "}\n",
       "\n",
       ".xr-var-list > li:nth-child(odd) > div,\n",
       ".xr-var-list > li:nth-child(odd) > label,\n",
       ".xr-var-list > li:nth-child(odd) > .xr-var-name span {\n",
       "  background-color: var(--xr-background-color-row-odd);\n",
       "}\n",
       "\n",
       ".xr-var-name {\n",
       "  grid-column: 1;\n",
       "}\n",
       "\n",
       ".xr-var-dims {\n",
       "  grid-column: 2;\n",
       "}\n",
       "\n",
       ".xr-var-dtype {\n",
       "  grid-column: 3;\n",
       "  text-align: right;\n",
       "  color: var(--xr-font-color2);\n",
       "}\n",
       "\n",
       ".xr-var-preview {\n",
       "  grid-column: 4;\n",
       "}\n",
       "\n",
       ".xr-var-name,\n",
       ".xr-var-dims,\n",
       ".xr-var-dtype,\n",
       ".xr-preview,\n",
       ".xr-attrs dt {\n",
       "  white-space: nowrap;\n",
       "  overflow: hidden;\n",
       "  text-overflow: ellipsis;\n",
       "  padding-right: 10px;\n",
       "}\n",
       "\n",
       ".xr-var-name:hover,\n",
       ".xr-var-dims:hover,\n",
       ".xr-var-dtype:hover,\n",
       ".xr-attrs dt:hover {\n",
       "  overflow: visible;\n",
       "  width: auto;\n",
       "  z-index: 1;\n",
       "}\n",
       "\n",
       ".xr-var-attrs,\n",
       ".xr-var-data {\n",
       "  display: none;\n",
       "  background-color: var(--xr-background-color) !important;\n",
       "  padding-bottom: 5px !important;\n",
       "}\n",
       "\n",
       ".xr-var-attrs-in:checked ~ .xr-var-attrs,\n",
       ".xr-var-data-in:checked ~ .xr-var-data {\n",
       "  display: block;\n",
       "}\n",
       "\n",
       ".xr-var-data > table {\n",
       "  float: right;\n",
       "}\n",
       "\n",
       ".xr-var-name span,\n",
       ".xr-var-data,\n",
       ".xr-attrs {\n",
       "  padding-left: 25px !important;\n",
       "}\n",
       "\n",
       ".xr-attrs,\n",
       ".xr-var-attrs,\n",
       ".xr-var-data {\n",
       "  grid-column: 1 / -1;\n",
       "}\n",
       "\n",
       "dl.xr-attrs {\n",
       "  padding: 0;\n",
       "  margin: 0;\n",
       "  display: grid;\n",
       "  grid-template-columns: 125px auto;\n",
       "}\n",
       "\n",
       ".xr-attrs dt, dd {\n",
       "  padding: 0;\n",
       "  margin: 0;\n",
       "  float: left;\n",
       "  padding-right: 10px;\n",
       "  width: auto;\n",
       "}\n",
       "\n",
       ".xr-attrs dt {\n",
       "  font-weight: normal;\n",
       "  grid-column: 1;\n",
       "}\n",
       "\n",
       ".xr-attrs dt:hover span {\n",
       "  display: inline-block;\n",
       "  background: var(--xr-background-color);\n",
       "  padding-right: 10px;\n",
       "}\n",
       "\n",
       ".xr-attrs dd {\n",
       "  grid-column: 2;\n",
       "  white-space: pre-wrap;\n",
       "  word-break: break-all;\n",
       "}\n",
       "\n",
       ".xr-icon-database,\n",
       ".xr-icon-file-text2 {\n",
       "  display: inline-block;\n",
       "  vertical-align: middle;\n",
       "  width: 1em;\n",
       "  height: 1.5em !important;\n",
       "  stroke-width: 0;\n",
       "  stroke: currentColor;\n",
       "  fill: currentColor;\n",
       "}\n",
       "</style><div class='xr-wrap'><div class='xr-header'><div class='xr-obj-type'>xarray.Dataset</div></div><ul class='xr-sections'><li class='xr-section-item'><input id='section-53f0749e-cbab-49a0-b479-e67da02bef93' class='xr-section-summary-in' type='checkbox' disabled ><label for='section-53f0749e-cbab-49a0-b479-e67da02bef93' class='xr-section-summary'  title='Expand/collapse section'>Dimensions:</label><div class='xr-section-inline-details'><ul class='xr-dim-list'><li><span class='xr-has-index'>hruid</span>: 114958</li><li><span class='xr-has-index'>time</span>: 365</li></ul></div><div class='xr-section-details'></div></li><li class='xr-section-item'><input id='section-6329f3a7-b76a-4471-919d-f2759dff2743' class='xr-section-summary-in' type='checkbox'  checked><label for='section-6329f3a7-b76a-4471-919d-f2759dff2743' class='xr-section-summary' >Coordinates: <span>(2)</span></label><div class='xr-section-inline-details'></div><div class='xr-section-details'><ul class='xr-var-list'><li class='xr-var-item'><div class='xr-var-name'><span class='xr-has-index'>time</span></div><div class='xr-var-dims'>(time)</div><div class='xr-var-dtype'>datetime64[ns]</div><div class='xr-var-preview xr-preview'>2018-01-01 ... 2018-12-31</div><input id='attrs-fbfa1e68-a367-44e7-a769-f5f5d5450c94' class='xr-var-attrs-in' type='checkbox' ><label for='attrs-fbfa1e68-a367-44e7-a769-f5f5d5450c94' title='Show/Hide attributes'><svg class='icon xr-icon-file-text2'><use xlink:href='#icon-file-text2'></use></svg></label><input id='data-8d0744f7-0ef5-4dc7-b39c-7f115fdcbb9a' class='xr-var-data-in' type='checkbox'><label for='data-8d0744f7-0ef5-4dc7-b39c-7f115fdcbb9a' title='Show/Hide data repr'><svg class='icon xr-icon-database'><use xlink:href='#icon-database'></use></svg></label><div class='xr-var-attrs'><dl class='xr-attrs'><dt><span>long_name :</span></dt><dd>time</dd><dt><span>standard_name :</span></dt><dd>time</dd></dl></div><pre class='xr-var-data'>array([&#x27;2018-01-01T00:00:00.000000000&#x27;, &#x27;2018-01-02T00:00:00.000000000&#x27;,\n",
       "       &#x27;2018-01-03T00:00:00.000000000&#x27;, ..., &#x27;2018-12-29T00:00:00.000000000&#x27;,\n",
       "       &#x27;2018-12-30T00:00:00.000000000&#x27;, &#x27;2018-12-31T00:00:00.000000000&#x27;],\n",
       "      dtype=&#x27;datetime64[ns]&#x27;)</pre></li><li class='xr-var-item'><div class='xr-var-name'><span class='xr-has-index'>hruid</span></div><div class='xr-var-dims'>(hruid)</div><div class='xr-var-dtype'>int32</div><div class='xr-var-preview xr-preview'>1 2 3 4 ... 114956 114957 114958</div><input id='attrs-3f43306b-f7f9-4edc-9a43-a77d0c21c2cd' class='xr-var-attrs-in' type='checkbox' ><label for='attrs-3f43306b-f7f9-4edc-9a43-a77d0c21c2cd' title='Show/Hide attributes'><svg class='icon xr-icon-file-text2'><use xlink:href='#icon-file-text2'></use></svg></label><input id='data-3b360d26-930f-4bc0-a22b-1eee74136c4b' class='xr-var-data-in' type='checkbox'><label for='data-3b360d26-930f-4bc0-a22b-1eee74136c4b' title='Show/Hide data repr'><svg class='icon xr-icon-database'><use xlink:href='#icon-database'></use></svg></label><div class='xr-var-attrs'><dl class='xr-attrs'><dt><span>cf_role :</span></dt><dd>timeseries_id</dd><dt><span>long_name :</span></dt><dd>local model hru id</dd></dl></div><pre class='xr-var-data'>array([     1,      2,      3, ..., 114956, 114957, 114958], dtype=int32)</pre></li></ul></div></li><li class='xr-section-item'><input id='section-4aa0b6fa-f8c4-4e0f-a7d5-54c35ef5e85e' class='xr-section-summary-in' type='checkbox'  checked><label for='section-4aa0b6fa-f8c4-4e0f-a7d5-54c35ef5e85e' class='xr-section-summary' >Data variables: <span>(8)</span></label><div class='xr-section-inline-details'></div><div class='xr-section-details'><ul class='xr-var-list'><li class='xr-var-item'><div class='xr-var-name'><span>hru_lat</span></div><div class='xr-var-dims'>(hruid)</div><div class='xr-var-dtype'>float32</div><div class='xr-var-preview xr-preview'>...</div><input id='attrs-20c39b03-5de1-432d-9173-dcbddf6ac487' class='xr-var-attrs-in' type='checkbox' ><label for='attrs-20c39b03-5de1-432d-9173-dcbddf6ac487' title='Show/Hide attributes'><svg class='icon xr-icon-file-text2'><use xlink:href='#icon-file-text2'></use></svg></label><input id='data-f261e0ca-f27e-4983-902e-a888b6f99745' class='xr-var-data-in' type='checkbox'><label for='data-f261e0ca-f27e-4983-902e-a888b6f99745' title='Show/Hide data repr'><svg class='icon xr-icon-database'><use xlink:href='#icon-database'></use></svg></label><div class='xr-var-attrs'><dl class='xr-attrs'><dt><span>long_name :</span></dt><dd>Latitude of HRU centroid</dd><dt><span>units :</span></dt><dd>degrees_north</dd><dt><span>standard_name :</span></dt><dd>hru_latitude</dd></dl></div><pre class='xr-var-data'>[114958 values with dtype=float32]</pre></li><li class='xr-var-item'><div class='xr-var-name'><span>hru_lon</span></div><div class='xr-var-dims'>(hruid)</div><div class='xr-var-dtype'>float32</div><div class='xr-var-preview xr-preview'>...</div><input id='attrs-248ac0dc-a699-46ab-9cd7-3fb9e5e6b30d' class='xr-var-attrs-in' type='checkbox' ><label for='attrs-248ac0dc-a699-46ab-9cd7-3fb9e5e6b30d' title='Show/Hide attributes'><svg class='icon xr-icon-file-text2'><use xlink:href='#icon-file-text2'></use></svg></label><input id='data-97b8d952-c84e-4b14-afe3-bbe56af49a57' class='xr-var-data-in' type='checkbox'><label for='data-97b8d952-c84e-4b14-afe3-bbe56af49a57' title='Show/Hide data repr'><svg class='icon xr-icon-database'><use xlink:href='#icon-database'></use></svg></label><div class='xr-var-attrs'><dl class='xr-attrs'><dt><span>long_name :</span></dt><dd>Longitude of HRU centroid</dd><dt><span>units :</span></dt><dd>degrees_east</dd><dt><span>standard_name :</span></dt><dd>hru_longitude</dd></dl></div><pre class='xr-var-data'>[114958 values with dtype=float32]</pre></li><li class='xr-var-item'><div class='xr-var-name'><span>prcp</span></div><div class='xr-var-dims'>(time, hruid)</div><div class='xr-var-dtype'>float32</div><div class='xr-var-preview xr-preview'>...</div><input id='attrs-9eb6a229-25f6-460c-93b3-4d535ee51951' class='xr-var-attrs-in' type='checkbox' ><label for='attrs-9eb6a229-25f6-460c-93b3-4d535ee51951' title='Show/Hide attributes'><svg class='icon xr-icon-file-text2'><use xlink:href='#icon-file-text2'></use></svg></label><input id='data-f58b59d1-c3bb-43bd-b266-d30bb048667d' class='xr-var-data-in' type='checkbox'><label for='data-f58b59d1-c3bb-43bd-b266-d30bb048667d' title='Show/Hide data repr'><svg class='icon xr-icon-database'><use xlink:href='#icon-database'></use></svg></label><div class='xr-var-attrs'><dl class='xr-attrs'><dt><span>long_name :</span></dt><dd>daily total precipitation</dd><dt><span>units :</span></dt><dd>mm/day</dd><dt><span>standard_name :</span></dt><dd>daily_total_precipitation</dd><dt><span>fill_value :</span></dt><dd>9.969209968386869e+36</dd></dl></div><pre class='xr-var-data'>[41959670 values with dtype=float32]</pre></li><li class='xr-var-item'><div class='xr-var-name'><span>tmax</span></div><div class='xr-var-dims'>(time, hruid)</div><div class='xr-var-dtype'>float32</div><div class='xr-var-preview xr-preview'>...</div><input id='attrs-8013576a-fa9e-4a56-93fd-24c113a54b09' class='xr-var-attrs-in' type='checkbox' ><label for='attrs-8013576a-fa9e-4a56-93fd-24c113a54b09' title='Show/Hide attributes'><svg class='icon xr-icon-file-text2'><use xlink:href='#icon-file-text2'></use></svg></label><input id='data-59b0b02e-06fb-41d0-879d-4f1e1ae755cd' class='xr-var-data-in' type='checkbox'><label for='data-59b0b02e-06fb-41d0-879d-4f1e1ae755cd' title='Show/Hide data repr'><svg class='icon xr-icon-database'><use xlink:href='#icon-database'></use></svg></label><div class='xr-var-attrs'><dl class='xr-attrs'><dt><span>long_name :</span></dt><dd>Maximum daily air temperature</dd><dt><span>units :</span></dt><dd>degree_Celsius</dd><dt><span>standard_name :</span></dt><dd>maximum_daily_air_temperature</dd><dt><span>fill_value :</span></dt><dd>9.969209968386869e+36</dd></dl></div><pre class='xr-var-data'>[41959670 values with dtype=float32]</pre></li><li class='xr-var-item'><div class='xr-var-name'><span>tmin</span></div><div class='xr-var-dims'>(time, hruid)</div><div class='xr-var-dtype'>float32</div><div class='xr-var-preview xr-preview'>...</div><input id='attrs-6055bf11-48a9-42ca-a4e6-1641b141bb82' class='xr-var-attrs-in' type='checkbox' ><label for='attrs-6055bf11-48a9-42ca-a4e6-1641b141bb82' title='Show/Hide attributes'><svg class='icon xr-icon-file-text2'><use xlink:href='#icon-file-text2'></use></svg></label><input id='data-225572fc-1268-4b8d-8ab6-d40289d7eadc' class='xr-var-data-in' type='checkbox'><label for='data-225572fc-1268-4b8d-8ab6-d40289d7eadc' title='Show/Hide data repr'><svg class='icon xr-icon-database'><use xlink:href='#icon-database'></use></svg></label><div class='xr-var-attrs'><dl class='xr-attrs'><dt><span>long_name :</span></dt><dd>Minimum daily air temperature</dd><dt><span>units :</span></dt><dd>degree_Celsius</dd><dt><span>standard_name :</span></dt><dd>minimum_daily_air_temperature</dd><dt><span>fill_value :</span></dt><dd>9.969209968386869e+36</dd></dl></div><pre class='xr-var-data'>[41959670 values with dtype=float32]</pre></li><li class='xr-var-item'><div class='xr-var-name'><span>rhmax</span></div><div class='xr-var-dims'>(time, hruid)</div><div class='xr-var-dtype'>float32</div><div class='xr-var-preview xr-preview'>...</div><input id='attrs-4d61570a-2bb8-4e6f-81d7-3f46a882d92f' class='xr-var-attrs-in' type='checkbox' ><label for='attrs-4d61570a-2bb8-4e6f-81d7-3f46a882d92f' title='Show/Hide attributes'><svg class='icon xr-icon-file-text2'><use xlink:href='#icon-file-text2'></use></svg></label><input id='data-76d46acb-a3b4-4bf6-9a39-1582ac51934b' class='xr-var-data-in' type='checkbox'><label for='data-76d46acb-a3b4-4bf6-9a39-1582ac51934b' title='Show/Hide data repr'><svg class='icon xr-icon-database'><use xlink:href='#icon-database'></use></svg></label><div class='xr-var-attrs'><dl class='xr-attrs'><dt><span>long_name :</span></dt><dd>daylight average incident shortwave radiation</dd><dt><span>units :</span></dt><dd>W/m2</dd><dt><span>standard_name :</span></dt><dd>daylight_average_incident_shortwave_radiation</dd><dt><span>fill_value :</span></dt><dd>9.969209968386869e+36</dd></dl></div><pre class='xr-var-data'>[41959670 values with dtype=float32]</pre></li><li class='xr-var-item'><div class='xr-var-name'><span>rhmin</span></div><div class='xr-var-dims'>(time, hruid)</div><div class='xr-var-dtype'>float32</div><div class='xr-var-preview xr-preview'>...</div><input id='attrs-f32221dc-c1d7-4436-9363-f9fb6a9a929c' class='xr-var-attrs-in' type='checkbox' ><label for='attrs-f32221dc-c1d7-4436-9363-f9fb6a9a929c' title='Show/Hide attributes'><svg class='icon xr-icon-file-text2'><use xlink:href='#icon-file-text2'></use></svg></label><input id='data-d880c714-4a01-4d6f-82b5-b6fefbd29adf' class='xr-var-data-in' type='checkbox'><label for='data-d880c714-4a01-4d6f-82b5-b6fefbd29adf' title='Show/Hide data repr'><svg class='icon xr-icon-database'><use xlink:href='#icon-database'></use></svg></label><div class='xr-var-attrs'><dl class='xr-attrs'><dt><span>long_name :</span></dt><dd>snow water equivalent</dd><dt><span>units :</span></dt><dd>kg/m2</dd><dt><span>standard_name :</span></dt><dd>snow_water_equivalent</dd><dt><span>fill_value :</span></dt><dd>9.969209968386869e+36</dd></dl></div><pre class='xr-var-data'>[41959670 values with dtype=float32]</pre></li><li class='xr-var-item'><div class='xr-var-name'><span>ws</span></div><div class='xr-var-dims'>(time, hruid)</div><div class='xr-var-dtype'>float32</div><div class='xr-var-preview xr-preview'>...</div><input id='attrs-03f8aae6-fa19-4ca6-8f44-403624fc6955' class='xr-var-attrs-in' type='checkbox' ><label for='attrs-03f8aae6-fa19-4ca6-8f44-403624fc6955' title='Show/Hide attributes'><svg class='icon xr-icon-file-text2'><use xlink:href='#icon-file-text2'></use></svg></label><input id='data-ff7f6738-358d-4d7c-a0f9-cf9adee186f2' class='xr-var-data-in' type='checkbox'><label for='data-ff7f6738-358d-4d7c-a0f9-cf9adee186f2' title='Show/Hide data repr'><svg class='icon xr-icon-database'><use xlink:href='#icon-database'></use></svg></label><div class='xr-var-attrs'><dl class='xr-attrs'><dt><span>long_name :</span></dt><dd>daily average vapor pressure</dd><dt><span>units :</span></dt><dd>Pa</dd><dt><span>standard_name :</span></dt><dd>daily_average_vapor_pressure</dd><dt><span>fill_value :</span></dt><dd>9.969209968386869e+36</dd></dl></div><pre class='xr-var-data'>[41959670 values with dtype=float32]</pre></li></ul></div></li><li class='xr-section-item'><input id='section-073a698b-9296-4b5f-9339-2dc711bd2d77' class='xr-section-summary-in' type='checkbox'  checked><label for='section-073a698b-9296-4b5f-9339-2dc711bd2d77' class='xr-section-summary' >Attributes: <span>(3)</span></label><div class='xr-section-inline-details'></div><div class='xr-section-details'><dl class='xr-attrs'><dt><span>Conventions :</span></dt><dd>CF-1.8</dd><dt><span>featureType :</span></dt><dd>timeSeries</dd><dt><span>history :</span></dt><dd></dd></dl></div></li></ul></div></div>"
      ],
      "text/plain": [
       "<xarray.Dataset>\n",
       "Dimensions:  (hruid: 114958, time: 365)\n",
       "Coordinates:\n",
       "  * time     (time) datetime64[ns] 2018-01-01 2018-01-02 ... 2018-12-31\n",
       "  * hruid    (hruid) int32 1 2 3 4 5 6 ... 114954 114955 114956 114957 114958\n",
       "Data variables:\n",
       "    hru_lat  (hruid) float32 ...\n",
       "    hru_lon  (hruid) float32 ...\n",
       "    prcp     (time, hruid) float32 ...\n",
       "    tmax     (time, hruid) float32 ...\n",
       "    tmin     (time, hruid) float32 ...\n",
       "    rhmax    (time, hruid) float32 ...\n",
       "    rhmin    (time, hruid) float32 ...\n",
       "    ws       (time, hruid) float32 ...\n",
       "Attributes:\n",
       "    Conventions:  CF-1.8\n",
       "    featureType:  timeSeries\n",
       "    history:      "
      ]
     },
     "execution_count": 19,
     "metadata": {},
     "output_type": "execute_result"
    }
   ],
   "source": [
    "ds = xr.open_dataset(p_gm / 'gm_climate_2018.nc' )\n",
    "ds"
   ]
  },
  {
   "cell_type": "markdown",
   "metadata": {},
   "source": [
    "---\n",
    "Grab values from hru-mapped dataset (ds) and map to the geodatafram (gdf) for plotting\n",
    "\n",
    "---"
   ]
  },
  {
   "cell_type": "code",
   "execution_count": 20,
   "metadata": {},
   "outputs": [],
   "source": [
    "gdf['tmax'] = 0.0\n",
    "for index, row in gdf.iterrows():\n",
    "    hind = row['nhru_v11']\n",
    "    value = ds.tmax.values[0,hind-1]\n",
    "    gdf.at[index,'tmax'] = ds.tmax.values[0,hind-1]\n",
    "        "
   ]
  },
  {
   "cell_type": "code",
   "execution_count": 21,
   "metadata": {},
   "outputs": [
    {
     "data": {
      "text/plain": [
       "<matplotlib.axes._subplots.AxesSubplot at 0x7fff9e5c6450>"
      ]
     },
     "execution_count": 21,
     "metadata": {},
     "output_type": "execute_result"
    },
    {
     "data": {
      "image/png": "[encoded data removed]",
      "text/plain": [
       "<Figure size 432x288 with 1 Axes>"
      ]
     },
     "metadata": {
      "needs_background": "light"
     },
     "output_type": "display_data"
    }
   ],
   "source": [
    "gdf.plot(column='tmax',vmin=-13, vmax=40)"
   ]
  },
  {
   "cell_type": "code",
   "execution_count": 22,
   "metadata": {},
   "outputs": [
    {
     "data": {
      "text/plain": [
       "<matplotlib.collections.QuadMesh at 0x7fff0e5cec50>"
      ]
     },
     "execution_count": 22,
     "metadata": {},
     "output_type": "execute_result"
    },
    {
     "data": {
      "image/png": "[encoded data removed]",
      "text/plain": [
       "<Figure size 432x288 with 2 Axes>"
      ]
     },
     "metadata": {
      "needs_background": "light"
     },
     "output_type": "display_data"
    }
   ],
   "source": [
    "import datetime as dt\n",
    "lvls = np.arange(-13, 40, 0.5)\n",
    "date = dt.datetime(year=2018,month=1,day=1)\n",
    "xrtmax = dtmax.daily_maximum_temperature.sel(day=date)-273.5\n",
    "xrtmax.plot(levels=lvls, cmap='viridis')"
   ]
  }
 ],
 "metadata": {
  "kernelspec": {
   "display_name": "Python 3",
   "language": "python",
   "name": "python3"
  },
  "language_info": {
   "codemirror_mode": {
    "name": "ipython",
    "version": 3
   },
   "file_extension": ".py",
   "mimetype": "text/x-python",
   "name": "python",
   "nbconvert_exporter": "python",
   "pygments_lexer": "ipython3",
   "version": "3.7.6"
  }
 },
 "nbformat": 4,
 "nbformat_minor": 4
}
